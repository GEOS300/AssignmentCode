{
  "cells": [
    {
      "cell_type": "raw",
      "metadata": {},
      "source": [
        "---\n",
        "title: Assignment 1\n",
        "subtitle: 'GEOS 300, 2024'\n",
        "execute:\n",
        "  keep-ipynb: true\n",
        "echo: false\n",
        "---"
      ],
      "id": "8495d103"
    },
    {
      "cell_type": "markdown",
      "metadata": {},
      "source": [
        "In this lab, assignment, you're going to look at data from the CA-DBB (aka \"BB\") Eddy Covariance (EC) Station @fig-BB1, located in Delta, BC.  Clicking on \"BB\" in @fig-map will zoom to the CA-DBB station and show the site's \"Flux Footprint Climatology\", which is a concept we'll cover later in term.  Clicking the \"BB\" button again will toggle the footprint later on and off.  You can pan/zoom to get a feel for what the site looks like.  For now, we'll stick to looking at some basic components of the site's energy balance.  In the data files (Climate_Summary_BB.csv & Climate_Summary_BB_Metadata.csv) you will find measurements multiple variables and their corresponding metadata.\n",
        "\n",
        "::: {#fig-BB1 layout-ncol=2}\n",
        "\n",
        "![Looking south from above the radiometer](https://geos300.github.io/Lectures/images/BB1_Radiation.jpg){#fig-BB1-RAD}\n",
        "\n",
        "![Looking south from the EC station](https://geos300.github.io/Lectures/images/BB1_Flux_Sensors.jpg){#fig-BB1-EC}\n",
        "\n",
        ":::\n",
        "\n",
        "::: {#fig-map}\n",
        "\n",
        "<div style=\"overflow: hidden;\n",
        "  padding-top: 55%;\n",
        "  position: relative\">\n",
        "<iframe src=\"https://ubc-micromet.github.io/FieldSiteMaps/\" title=\"Processes\" scrolling=\"no\" frameborder=\"0\"\n",
        "style=\"border: 0;\n",
        "height: 100%;\n",
        "left: 0;\n",
        "position: absolute;\n",
        "top: 0;\n",
        "width: 75%;\">\n",
        "</iframe>\n",
        "</div>\n",
        "Location of UBC-Micromet Eddy Covariance Stations\n",
        ":::\n"
      ],
      "id": "0473f70f"
    },
    {
      "cell_type": "code",
      "metadata": {},
      "source": [
        "import numpy as np\n",
        "import pandas as pd\n",
        "import matplotlib.pyplot as plt\n",
        "from datetime import datetime as dt"
      ],
      "id": "852bdbed",
      "execution_count": null,
      "outputs": []
    },
    {
      "cell_type": "markdown",
      "metadata": {},
      "source": [
        "### Question 1 \n",
        "\n",
        "Below is an example showing the first few rows of the BB climate summary data.  What value do you see listed for Incoming $SW$ in the first row of the table, is this value reasonable?  What is the value listed for Albedos, is this reasonable?  Why or why not?\n",
        "\n",
        "* Make suer to specify the units in your answer. Check the metadata provided [here](https://github.com/GEOS300/AssignmentData/blob/main/Climate_Summary_BB_Metadata.md) to make sure you understand the variable names and units.\n"
      ],
      "id": "344e3597"
    },
    {
      "cell_type": "code",
      "metadata": {},
      "source": [
        "Student_Number = 0\n",
        "\n",
        "# Import the data from github & parse the timestamp for each record\n",
        "data_url='https://raw.githubusercontent.com/GEOS300/AssignmentData/main/Climate_Summary_BB.csv'\n",
        "df = pd.read_csv(data_url,parse_dates=['TIMESTAMP'],index_col=['TIMESTAMP'])\n",
        "\n",
        "# Calculate Albedo\n",
        "df['Albedo'] = df['SW_OUT_1_1_1']/df['SW_IN_1_1_1']\n",
        "\n",
        "# Preview the table using .head()\n",
        "df.head()"
      ],
      "id": "47f93bf1",
      "execution_count": null,
      "outputs": []
    },
    {
      "cell_type": "markdown",
      "metadata": {},
      "source": [
        "### Question 2 \n",
        "\n",
        "The plot below shows data from the January 2024 cold-snap (Jan 12 to Jan 19) and snowstorm (Jan 17-Jan 19) during which record low temperatures were observed and over 25cm of snow was received across the Metro Vancouver area.  Traces traces of the four radiation component, air & soil temperature, and relative humidity are shown.  Looking at the trace below - what stands out to you?  Comment on the progression of each radiative component over time, using the temperature and humidity data to support your discussion.  Do you see any issues in the data?  If so, what is a possible explanation?\n"
      ],
      "id": "ab5cb065"
    },
    {
      "cell_type": "code",
      "metadata": {},
      "source": [
        "# Set a time window and query the dataframe\n",
        "Start ='2024-01-12 0000'\n",
        "End ='2024-01-20 0000'\n",
        "Selection = df.loc[((df.index>=dt.strptime(Start, '%Y-%m-%d %H%M'))&\n",
        "                    (df.index<=dt.strptime(End, '%Y-%m-%d %H%M')))].copy()\n",
        "                    \n",
        "# Find the maximum SW_IN and when it occurred\n",
        "Max_SW_IN = Selection.loc[Selection['SW_IN_1_1_1']==Selection['SW_IN_1_1_1'].max()]\n",
        "Max_SW_IN_TIMESTAMP = Selection.loc[Selection['SW_IN_1_1_1']==Selection['SW_IN_1_1_1'].max()]\n",
        "\n",
        "# Create a plot with two sub-plots\n",
        "# Plot the radiation components on the first sub-plot\n",
        "# Plot Ta,Ts, and RH on the second sub-plot\n",
        "fig,axes=plt.subplots(2,sharex=True)\n",
        "plt.suptitle(f'Student #: {Student_Number}')\n",
        "\n",
        "Selection.plot(ax=axes[0],\n",
        "              y=['SW_IN_1_1_1','SW_OUT_1_1_1','LW_IN_1_1_1','LW_OUT_1_1_1'],\n",
        "              color=['blue','red','blue','red'],\n",
        "              style=['-','-','--','--'])\n",
        "axes[0].legend(['SW In','SW Out','LW In','LW Out'],ncol=4)\n",
        "\n",
        "# Note: You can use a markup language called LaTeX to format labels.  Replace Units,subscript, and superscript with the appropriate unit for radiative fluxes\n",
        "axes[0].set_ylabel('Unit$_{subscript}^{superscript}$')\n",
        "axes[0].set_ylim([0,475])\n",
        "axes[0].set_title(f'Radiative Fluxes at CA-DBB Flux Station')\n",
        "axes[0].grid()\n",
        "\n",
        "# For this plot we're going to plot temperature on the left axes and RH on the right axes\n",
        "axes[1].plot()\n",
        "second_yaxes = axes[1].twinx()\n",
        "\n",
        "# A simple \"hack\" to get the element from second_yaxes (RH_1_1_1) to show up with the legend items for the main yaxis\n",
        "Selection['Dummy_Trace'] = np.nan\n",
        "Selection.plot(ax=axes[1],\n",
        "              y=['TA_1_1_1','TS_1','Dummy_Trace'],\n",
        "              color=['red','red','blue'],\n",
        "              style=['-','--',':'])\n",
        "axes[1].legend(['Ta 2m','Ts 0.05m','RH 2m'],ncol=2,loc=4)\n",
        "axes[1].set_ylabel('C$\\degree$')\n",
        "axes[1].set_ylim([-15,10])\n",
        "\n",
        "Selection.plot(ax=second_yaxes,\n",
        "              y=['RH_1_1_1'],\n",
        "              color=['blue'],\n",
        "              style=[':'],\n",
        "              legend=False)\n",
        "second_yaxes.set_ylabel('%')\n",
        "\n",
        "axes[1].set_xlabel('Date')\n",
        "axes[1].set_title('Temperature and Humidity')\n",
        "axes[1].grid()"
      ],
      "id": "c721c2ee",
      "execution_count": null,
      "outputs": []
    },
    {
      "cell_type": "markdown",
      "metadata": {},
      "source": [
        "## Question 3\n",
        "\n",
        "a. The maximum $SW_\\downarrow$ observed during this time period was `{python} Selection['SW_IN_1_1_1'].max()` at `{python} Selection.loc[Selection['SW_IN_1_1_1']==Selection['SW_IN_1_1_1'].max()].index` Pacific Standard Time (PST).  The CA-DBB station is located at 49.129 $^{\\circ}$ N -122.985 $^{\\circ}$ W.  Using the equations from lecture, calculate the Local Apparent Time (LAT), solar declination $\\delta$, solar zenith angle $Z$, and extraterrestrial irradiance $I_ex$ for this observation period.  Given the value of $I_ex$, compared to observed $SW_\\downarrow$, what is the approximate bulk transmissivity ($\\Psi_a$) coefficient of the atmosphere over CA-DBB at this point in time?\n",
        "\n",
        "b. Now calculate $\\Psi_a$ extinction coefficient for `{python} Selection.loc[Selection.index==pd.to_datetime('2024-01-19 13:00')].index`, when the observed value of $SW_\\downarrow$ was `{python} Selection.loc[Selection.index==pd.to_datetime('2024-01-19 13:00'),'SW_IN_1_1_1']`.  What explains the difference between these two days?\n"
      ],
      "id": "824c4a91"
    },
    {
      "cell_type": "code",
      "metadata": {},
      "source": [
        "# Insert your code here"
      ],
      "id": "4bd857a2",
      "execution_count": null,
      "outputs": []
    },
    {
      "cell_type": "code",
      "metadata": {},
      "source": [
        "# Insert your code here"
      ],
      "id": "fa9ee10b",
      "execution_count": null,
      "outputs": []
    }
  ],
  "metadata": {
    "kernelspec": {
      "name": "python3",
      "language": "python",
      "display_name": "Python 3 (ipykernel)"
    }
  },
  "nbformat": 4,
  "nbformat_minor": 5
}